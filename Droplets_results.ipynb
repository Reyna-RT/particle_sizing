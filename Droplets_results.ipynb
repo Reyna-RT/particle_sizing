{
 "cells": [
  {
   "cell_type": "code",
   "execution_count": 1,
   "metadata": {},
   "outputs": [],
   "source": [
    "import numpy as np\n",
    "import matplotlib.pyplot as plt\n",
    "from mpl_toolkits.mplot3d import Axes3D\n",
    "import math\n",
    "import glob\n",
    "from utils import *"
   ]
  },
  {
   "cell_type": "code",
   "execution_count": 2,
   "metadata": {},
   "outputs": [],
   "source": [
    "needle_d = np.zeros((2))\n",
    "needle_std = np.zeros((2))\n",
    "\n",
    "# Load calculated parameters for transformation\n",
    "poly_file = 'data/polynomials_2022.txt'\n",
    "p = magnification(poly_file)\n",
    "\n",
    "folder2 = 'drops/img/'\n",
    "#Obtain maximum intensity for the series\n",
    "#features = ['noz_0_','noz_m4_','noz_p4_','olive_0_','olive_m4_','olive_p4_',\n",
    "#            'pink_0_','pink_m4_','pink_p4_','white_0_','white_m4_','white_p4_',]\n",
    "#all_names = [folder2+feat for feat in features]\n",
    "#M = []\n",
    "#for name in all_names:\n",
    "#    M.append(obtain_intensity_maxima(name,(6,100)))\n",
    "#max_gray=np.max(M)"
   ]
  },
  {
   "cell_type": "markdown",
   "metadata": {},
   "source": [
    "## Nozzle z=0"
   ]
  },
  {
   "cell_type": "code",
   "execution_count": 3,
   "metadata": {},
   "outputs": [
    {
     "name": "stdout",
     "output_type": "stream",
     "text": [
      "250\n"
     ]
    }
   ],
   "source": [
    "#Correct names and folders\n",
    "folder1 = 'drops/res_noz_0/'\n",
    "# Correct name for target files\n",
    "name_feat = folder2 + 'noz_0_'\n",
    "\n",
    "# Load PTV data\n",
    "name = folder1+'rt_is.10???'\n",
    "filenames=sorted(glob.glob(name))\n",
    "N = len(filenames)\n",
    "print(N)"
   ]
  },
  {
   "cell_type": "code",
   "execution_count": 4,
   "metadata": {},
   "outputs": [
    {
     "data": {
      "image/png": "[encoded data removed]",
      "text/plain": [
       "<Figure size 432x288 with 1 Axes>"
      ]
     },
     "metadata": {
      "needs_background": "light"
     },
     "output_type": "display_data"
    }
   ],
   "source": [
    "d_E = []\n",
    "gray_sum = []\n",
    "\n",
    "fig1, ax1 = plt.subplots()\n",
    "\n",
    "for j in range(100,151):\n",
    "    name = filenames[j]\n",
    "    a = np.loadtxt(name, skiprows=1)\n",
    "    \n",
    "    #Separate data into coordinates, add offset  between ptv and real positions(systematic error) \n",
    "    x = a[:,1]/10.\n",
    "    y = a[:,2]/10.\n",
    "    z = a[:,3]/10.\n",
    "    \n",
    "    for i in range(len(a)):\n",
    "        if -3<z[i] and z[i]<-2 and -3<y[i] and y[i]<15:\n",
    "            ax1.scatter(x[i],y[i],label='ptv')\n",
    "            #Scale pixel to world with z position\n",
    "            scale = [p[j](a[i][3])*0.1 for j in range(4)]\n",
    "            #Find ID in each camera\n",
    "            ID = np.array([int(a[i][4]),int(a[i][5]),int(a[i][6]),int(a[i][7])],dtype=int)\n",
    "            #Use ID values to obtain axis lengths and intensity\n",
    "            al, b, gray = obtain_values_from_ID(ID,scale,name_feat,count=j)\n",
    "            gray_sum.append(gray)\n",
    "            d_E.append(np.sqrt(al*b))#/resize(gray_sum[i]/max_gray,np.sqrt(al*b)))\n",
    "\n",
    "plt.show()\n"
   ]
  },
  {
   "cell_type": "code",
   "execution_count": 5,
   "metadata": {},
   "outputs": [
    {
     "name": "stdout",
     "output_type": "stream",
     "text": [
      "5.4328628622235025 0.22214860954304447\n"
     ]
    }
   ],
   "source": [
    "needle_d[0] = np.asarray(d_E).mean()\n",
    "needle_std[0] = np.asarray(d_E).std()\n",
    "print(np.asarray(d_E).mean(), np.asarray(d_E).std())"
   ]
  },
  {
   "cell_type": "markdown",
   "metadata": {},
   "source": [
    "## white z=0"
   ]
  },
  {
   "cell_type": "code",
   "execution_count": 6,
   "metadata": {},
   "outputs": [
    {
     "name": "stdout",
     "output_type": "stream",
     "text": [
      "250\n"
     ]
    }
   ],
   "source": [
    "folder1 = 'multi_drops/res_white_0/'\n",
    "folder2 = 'multi_drops/img/'\n",
    "# Correct name for target files\n",
    "name_feat = folder2 + 'white_0_'\n",
    "\n",
    "# Load PTV data\n",
    "name = folder1+'rt_is.10???'\n",
    "filenames=sorted(glob.glob(name))\n",
    "N = len(filenames)\n",
    "print(N)"
   ]
  },
  {
   "cell_type": "code",
   "execution_count": 7,
   "metadata": {},
   "outputs": [
    {
     "data": {
      "image/png": "[encoded data removed]",
      "text/plain": [
       "<Figure size 432x288 with 1 Axes>"
      ]
     },
     "metadata": {
      "needs_background": "light"
     },
     "output_type": "display_data"
    }
   ],
   "source": [
    "d_E = []\n",
    "gray_sum = []\n",
    "\n",
    "fig1, ax1 = plt.subplots()\n",
    "\n",
    "for j in range(100,150):\n",
    "    name = filenames[j]\n",
    "    a = np.loadtxt(name, skiprows=1)\n",
    "    \n",
    "    #Separate data into coordinates, add offset  between ptv and real positions(systematic error) \n",
    "    x = a[:,1]/10.\n",
    "    y = a[:,2]/10.\n",
    "    z = a[:,3]/10.\n",
    "    \n",
    "    for i in range(len(a)):\n",
    "        if -4<z[i] and z[i]<-1:\n",
    "            ax1.scatter(x[i],z[i],label='ptv')\n",
    "            #Scale pixel to world with z position\n",
    "            scale = [p[j](a[i][3])*0.1 for j in range(4)]\n",
    "            #Find ID in each camera\n",
    "            ID = np.array([int(a[i][4]),int(a[i][5]),int(a[i][6]),int(a[i][7])],dtype=int)\n",
    "            #Use ID values to obtain axis lengths and intensity\n",
    "            al, b, gray = obtain_values_from_ID(ID,scale,name_feat,count=j)\n",
    "            gray_sum.append(gray)\n",
    "            d_E.append(np.sqrt(al*b))#/resize(gray_sum[i]/max_gray,np.sqrt(al*b)))\n",
    "\n",
    "plt.show()\n",
    "#print(max(gray_sum),max_gray)"
   ]
  },
  {
   "cell_type": "code",
   "execution_count": 8,
   "metadata": {},
   "outputs": [
    {
     "name": "stdout",
     "output_type": "stream",
     "text": [
      "2.5338488309888634 0.13187804633488162\n"
     ]
    }
   ],
   "source": [
    "needle_d[1] = np.asarray(d_E).mean()\n",
    "needle_std[1] = np.asarray(d_E).std()\n",
    "print(np.asarray(d_E).mean(), np.asarray(d_E).std())"
   ]
  },
  {
   "cell_type": "markdown",
   "metadata": {},
   "source": [
    "## Measured data"
   ]
  },
  {
   "cell_type": "code",
   "execution_count": 9,
   "metadata": {},
   "outputs": [],
   "source": [
    "D_needle = np.array([5.073,2.429])\n",
    "std_needle = np.array([0.067,0.081])"
   ]
  },
  {
   "cell_type": "code",
   "execution_count": 11,
   "metadata": {},
   "outputs": [
    {
     "data": {
      "text/plain": [
       "Text(0, 0.5, 'Estimated diameter [mm]')"
      ]
     },
     "execution_count": 11,
     "metadata": {},
     "output_type": "execute_result"
    },
    {
     "data": {
      "image/png": "[encoded data removed]",
      "text/plain": [
       "<Figure size 432x288 with 1 Axes>"
      ]
     },
     "metadata": {
      "needs_background": "light"
     },
     "output_type": "display_data"
    }
   ],
   "source": [
    "plt.errorbar(D_needle,needle_d,yerr=needle_std,xerr=std_needle,ecolor='b',c='w',marker='o',markerfacecolor='b')\n",
    "\n",
    "### Identity line ###\n",
    "x = np.linspace(2,5,20)\n",
    "plt.plot(x,x,c='gray')\n",
    "#####################\n",
    "\n",
    "plt.ylim(1,6)\n",
    "plt.xlabel('Measured diameter [mm]')\n",
    "plt.ylabel('Estimated diameter [mm]')\n",
    "#plt.savefig('drop-estimation-size.png',dpi=300,bbox_inches='tight')"
   ]
  },
  {
   "cell_type": "code",
   "execution_count": null,
   "metadata": {},
   "outputs": [],
   "source": []
  }
 ],
 "metadata": {
  "kernelspec": {
   "display_name": "Python 3 (ipykernel)",
   "language": "python",
   "name": "python3"
  },
  "language_info": {
   "codemirror_mode": {
    "name": "ipython",
    "version": 3
   },
   "file_extension": ".py",
   "mimetype": "text/x-python",
   "name": "python",
   "nbconvert_exporter": "python",
   "pygments_lexer": "ipython3",
   "version": "3.8.10"
  }
 },
 "nbformat": 4,
 "nbformat_minor": 4
}
